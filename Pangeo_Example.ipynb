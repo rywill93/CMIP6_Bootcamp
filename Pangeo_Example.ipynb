{
 "cells": [
  {
   "cell_type": "code",
   "execution_count": 1,
   "id": "16f21a9e-3ec1-4ae2-8a5d-0a7511b26719",
   "metadata": {},
   "outputs": [],
   "source": [
    "import numpy as np\n",
    "import xarray as xr\n",
    "import s3fs\n",
    "import gcsfs\n",
    "import intake\n",
    "import dask\n",
    "#from cmip6_preprocessing.preprocessing import combined_preprocessing"
   ]
  },
  {
   "cell_type": "code",
   "execution_count": 2,
   "id": "0594d313-633e-44fc-94ed-a8d696cb77e8",
   "metadata": {},
   "outputs": [
    {
     "name": "stdout",
     "output_type": "stream",
     "text": [
      "col: <pangeo-cmip6 catalog with 7674 dataset(s) from 514818 asset(s)>\n",
      "col_df:   activity_id institution_id     source_id       experiment_id member_id  \\\n",
      "0  HighResMIP           CMCC  CMCC-CM2-HR4  highresSST-present  r1i1p1f1   \n",
      "1  HighResMIP           CMCC  CMCC-CM2-HR4  highresSST-present  r1i1p1f1   \n",
      "2  HighResMIP           CMCC  CMCC-CM2-HR4  highresSST-present  r1i1p1f1   \n",
      "3  HighResMIP           CMCC  CMCC-CM2-HR4  highresSST-present  r1i1p1f1   \n",
      "4  HighResMIP           CMCC  CMCC-CM2-HR4  highresSST-present  r1i1p1f1   \n",
      "\n",
      "  table_id variable_id grid_label  \\\n",
      "0     Amon          ps         gn   \n",
      "1     Amon        rsds         gn   \n",
      "2     Amon        rlus         gn   \n",
      "3     Amon        rlds         gn   \n",
      "4     Amon         psl         gn   \n",
      "\n",
      "                                              zstore  dcpp_init_year   version  \n",
      "0  gs://cmip6/CMIP6/HighResMIP/CMCC/CMCC-CM2-HR4/...             NaN  20170706  \n",
      "1  gs://cmip6/CMIP6/HighResMIP/CMCC/CMCC-CM2-HR4/...             NaN  20170706  \n",
      "2  gs://cmip6/CMIP6/HighResMIP/CMCC/CMCC-CM2-HR4/...             NaN  20170706  \n",
      "3  gs://cmip6/CMIP6/HighResMIP/CMCC/CMCC-CM2-HR4/...             NaN  20170706  \n",
      "4  gs://cmip6/CMIP6/HighResMIP/CMCC/CMCC-CM2-HR4/...             NaN  20170706  \n"
     ]
    }
   ],
   "source": [
    "# From Google Cloud:\n",
    "col = intake.open_esm_datastore(\"https://storage.googleapis.com/cmip6/pangeo-cmip6.json\")\n",
    "\n",
    "print(\"col:\", col)\n",
    "print(\"col_df:\", col.df.head())"
   ]
  },
  {
   "cell_type": "code",
   "execution_count": 3,
   "id": "e294b579-9065-46b8-b5ec-e8727fed2eab",
   "metadata": {},
   "outputs": [],
   "source": [
    "### Searching for datasets ###\n",
    "\n",
    "# Form query dictionary\n",
    "query = dict(experiment_id = 'historical', variable_id = 'tas', table_id = 'Amon', source_id = 'EC-Earth3')"
   ]
  },
  {
   "cell_type": "code",
   "execution_count": 4,
   "id": "745f4992-6d5c-46fd-801e-53e02146a024",
   "metadata": {},
   "outputs": [
    {
     "data": {
      "text/html": [
       "<div>\n",
       "<style scoped>\n",
       "    .dataframe tbody tr th:only-of-type {\n",
       "        vertical-align: middle;\n",
       "    }\n",
       "\n",
       "    .dataframe tbody tr th {\n",
       "        vertical-align: top;\n",
       "    }\n",
       "\n",
       "    .dataframe thead th {\n",
       "        text-align: right;\n",
       "    }\n",
       "</style>\n",
       "<table border=\"1\" class=\"dataframe\">\n",
       "  <thead>\n",
       "    <tr style=\"text-align: right;\">\n",
       "      <th></th>\n",
       "      <th>experiment_id</th>\n",
       "      <th>variable_id</th>\n",
       "      <th>table_id</th>\n",
       "    </tr>\n",
       "    <tr>\n",
       "      <th>source_id</th>\n",
       "      <th></th>\n",
       "      <th></th>\n",
       "      <th></th>\n",
       "    </tr>\n",
       "  </thead>\n",
       "  <tbody>\n",
       "    <tr>\n",
       "      <th>EC-Earth3</th>\n",
       "      <td>1</td>\n",
       "      <td>1</td>\n",
       "      <td>1</td>\n",
       "    </tr>\n",
       "  </tbody>\n",
       "</table>\n",
       "</div>"
      ],
      "text/plain": [
       "           experiment_id  variable_id  table_id\n",
       "source_id                                      \n",
       "EC-Earth3              1            1         1"
      ]
     },
     "execution_count": 4,
     "metadata": {},
     "output_type": "execute_result"
    }
   ],
   "source": [
    "# Subset catalog and get some metrics grouped by 'source_id'\n",
    "col_subset = col.search(require_all_on=['source_id'], **query) \n",
    "col_subset.df.groupby('source_id')[['experiment_id', 'variable_id', 'table_id']].nunique() # Ordering CSV outut file to display results in this order (column-wise)"
   ]
  },
  {
   "cell_type": "code",
   "execution_count": 5,
   "id": "ad6081fb-b78a-4b14-ab49-f7ff36aac3ea",
   "metadata": {},
   "outputs": [],
   "source": [
    "# Output all metadata to CSV\n",
    "col_subset.df.to_csv(path_or_buf='/home/jovyan/output.csv', index=False)"
   ]
  },
  {
   "cell_type": "code",
   "execution_count": 6,
   "id": "a47439ad-7dbe-47f0-860f-e2eaa210d113",
   "metadata": {},
   "outputs": [
    {
     "name": "stdout",
     "output_type": "stream",
     "text": [
      "\n",
      "--> The keys in the returned dictionary of datasets are constructed as follows:\n",
      "\t'activity_id.institution_id.source_id.experiment_id.table_id.grid_label'\n"
     ]
    },
    {
     "data": {
      "text/html": [
       "\n",
       "<style>\n",
       "    /* Turns off some styling */\n",
       "    progress {\n",
       "        /* gets rid of default border in Firefox and Opera. */\n",
       "        border: none;\n",
       "        /* Needs to be in here for Safari polyfill so background images work as expected. */\n",
       "        background-size: auto;\n",
       "    }\n",
       "    progress:not([value]), progress:not([value])::-webkit-progress-bar {\n",
       "        background: repeating-linear-gradient(45deg, #7e7e7e, #7e7e7e 10px, #5c5c5c 10px, #5c5c5c 20px);\n",
       "    }\n",
       "    .progress-bar-interrupted, .progress-bar-interrupted::-webkit-progress-bar {\n",
       "        background: #F44336;\n",
       "    }\n",
       "</style>\n"
      ],
      "text/plain": [
       "<IPython.core.display.HTML object>"
      ]
     },
     "metadata": {},
     "output_type": "display_data"
    },
    {
     "data": {
      "text/html": [
       "\n",
       "    <div>\n",
       "      <progress value='1' class='' max='1' style='width:300px; height:20px; vertical-align: middle;'></progress>\n",
       "      100.00% [1/1 00:00&lt;00:00]\n",
       "    </div>\n",
       "    "
      ],
      "text/plain": [
       "<IPython.core.display.HTML object>"
      ]
     },
     "metadata": {},
     "output_type": "display_data"
    }
   ],
   "source": [
    "# Read in data - assign into a dictionary\n",
    "with dask.config.set(**{'array.slicing.split_large_chunks': False}): # Need this line to silence array size warning\n",
    "    dsets = col_subset.to_dataset_dict(zarr_kwargs={'consolidated': True},\n",
    "                                   storage_options={'token': 'anon'})"
   ]
  },
  {
   "cell_type": "code",
   "execution_count": 9,
   "id": "04eca31a-9631-447d-b577-d48491a3d0c9",
   "metadata": {},
   "outputs": [
    {
     "name": "stdout",
     "output_type": "stream",
     "text": [
      "ds_hist: <xarray.Dataset>\n",
      "Dimensions:    (lat: 514, lon: 512, time: 1981, bnds: 2, member_id: 73)\n",
      "Coordinates:\n",
      "  * lat        (lat) float64 -89.46 -89.46 -88.77 -88.77 ... 88.77 89.46 89.46\n",
      "  * lon        (lon) float64 0.0 0.7031 1.406 2.109 ... 357.2 357.9 358.6 359.3\n",
      "  * time       (time) datetime64[ns] 1849-12-16T12:00:00 ... 2014-12-16T12:00:00\n",
      "    height     float64 ...\n",
      "    lat_bnds   (lat, bnds) float64 dask.array<chunksize=(514, 2), meta=np.ndarray>\n",
      "    lon_bnds   (lon, bnds) float64 dask.array<chunksize=(512, 2), meta=np.ndarray>\n",
      "    time_bnds  (time, bnds) datetime64[ns] dask.array<chunksize=(1981, 2), meta=np.ndarray>\n",
      "  * member_id  (member_id) <U10 'r9i1p1f1' 'r11i1p1f1' ... 'r25i1p1f1'\n",
      "Dimensions without coordinates: bnds\n",
      "Data variables:\n",
      "    tas        (member_id, time, lat, lon) float32 dask.array<chunksize=(1, 126, 514, 512), meta=np.ndarray>\n",
      "Attributes: (12/55)\n",
      "    title:                     EC-Earth3 output prepared for CMIP6\n",
      "    branch_time_in_child:      0.0\n",
      "    variant_label:             r25i1p1f1\n",
      "    grid_label:                gr\n",
      "    realization_index:         25\n",
      "    variable_id:               tas\n",
      "    ...                        ...\n",
      "    parent_activity_id:        CMIP\n",
      "    parent_time_units:         days since 1850-01-01\n",
      "    table_info:                Creation Date:(20 July 2018) MD5:b2dc68c38656d...\n",
      "    nominal_resolution:        100 km\n",
      "    realm:                     atmos\n",
      "    intake_esm_dataset_key:    CMIP.EC-Earth-Consortium.EC-Earth3.historical....\n",
      "tas_hist: (1981, 514, 512)\n"
     ]
    }
   ],
   "source": [
    "# list all merged datasets\n",
    "[key for key in dsets.keys()]\n",
    "\n",
    "ds_hist = dsets['CMIP.EC-Earth-Consortium.EC-Earth3.historical.Amon.gr']\n",
    "print(\"ds_hist:\", ds_hist)\n",
    "\n",
    "tas_hist = ds_hist['tas'][0] # We index the first available ensemble member\n",
    "print(\"tas_hist:\", tas_hist.shape)"
   ]
  },
  {
   "cell_type": "code",
   "execution_count": 8,
   "id": "ffeb8a1a-8f4e-416f-bd1d-f0e8fbab64e6",
   "metadata": {},
   "outputs": [
    {
     "name": "stdout",
     "output_type": "stream",
     "text": [
      "tas_hist: (360, 514, 512) <xarray.DataArray 'tas' (time: 360, lat: 514, lon: 512)>\n",
      "dask.array<getitem, shape=(360, 514, 512), dtype=float32, chunksize=(69, 514, 512), chunktype=numpy.ndarray>\n",
      "Coordinates:\n",
      "  * lat        (lat) float64 -89.46 -89.46 -88.77 -88.77 ... 88.77 89.46 89.46\n",
      "  * lon        (lon) float64 0.0 0.7031 1.406 2.109 ... 357.2 357.9 358.6 359.3\n",
      "  * time       (time) datetime64[ns] 1985-01-16T12:00:00 ... 2014-12-16T12:00:00\n",
      "    height     float64 ...\n",
      "    member_id  <U10 'r9i1p1f1'\n",
      "Attributes:\n",
      "    cell_measures:  area: areacella\n",
      "    cell_methods:   area: time: mean\n",
      "    comment:        near-surface (usually, 2 meter) air temperature\n",
      "    history:        2019-07-04T00:44:59Z altered by CMOR: Treated scalar dime...\n",
      "    long_name:      Near-Surface Air Temperature\n",
      "    standard_name:  air_temperature\n",
      "    units:          K\n"
     ]
    }
   ],
   "source": [
    "### 1985-2014 ###\n",
    "tas_hist = tas_hist.sel(time=slice(\"1985-01-01\", \"2014-12-31\")) # Index last 30 years using Xarray function\n",
    "print(\"tas_hist:\", tas_hist.shape, tas_hist)"
   ]
  },
  {
   "cell_type": "code",
   "execution_count": null,
   "id": "43c5f3f3-3b4e-4d63-8734-981128edfddc",
   "metadata": {},
   "outputs": [],
   "source": []
  },
  {
   "cell_type": "code",
   "execution_count": null,
   "id": "145da72f-f284-48ae-a5b6-06fea93e2ff5",
   "metadata": {},
   "outputs": [],
   "source": []
  }
 ],
 "metadata": {
  "kernelspec": {
   "display_name": "Python [conda env:notebook] *",
   "language": "python",
   "name": "conda-env-notebook-py"
  },
  "language_info": {
   "codemirror_mode": {
    "name": "ipython",
    "version": 3
   },
   "file_extension": ".py",
   "mimetype": "text/x-python",
   "name": "python",
   "nbconvert_exporter": "python",
   "pygments_lexer": "ipython3",
   "version": "3.9.13"
  }
 },
 "nbformat": 4,
 "nbformat_minor": 5
}
